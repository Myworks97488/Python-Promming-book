{
 "cells": [
  {
   "cell_type": "code",
   "execution_count": 7,
   "id": "ec73f323-6602-4223-9e00-c04023f74796",
   "metadata": {},
   "outputs": [
    {
     "name": "stdin",
     "output_type": "stream",
     "text": [
      "enter an integer: oo7\n"
     ]
    },
    {
     "name": "stdout",
     "output_type": "stream",
     "text": [
      "Error! Not a valid integer.\n"
     ]
    },
    {
     "name": "stdin",
     "output_type": "stream",
     "text": [
      "enter an integer: 007\n"
     ]
    }
   ],
   "source": [
    "ok = False\n",
    "while not ok:\n",
    "    try:\n",
    "        numberString = input(\"enter an integer:\")\n",
    "        n = int(numberString)\n",
    "        ok = True\n",
    "    except ValueError:\n",
    "        print(\"Error! Not a valid integer.\")"
   ]
  },
  {
   "cell_type": "code",
   "execution_count": 15,
   "id": "53747d48-127d-4805-84a5-df456eb63a60",
   "metadata": {},
   "outputs": [
    {
     "name": "stdout",
     "output_type": "stream",
     "text": [
      "Error opening file\n"
     ]
    }
   ],
   "source": [
    "try:\n",
    "    my_file = open(\"myfile.txt\", \"r\")\n",
    "    print(my_file.read())\n",
    "except:\n",
    "    print(\"Error opening file\")"
   ]
  },
  {
   "cell_type": "code",
   "execution_count": 17,
   "id": "ea4c8ccf-9828-4484-a635-d88d4733b7c3",
   "metadata": {},
   "outputs": [
    {
     "name": "stdout",
     "output_type": "stream",
     "text": [
      "result of 10/5= 2.0\n",
      "exception- division by zero\n"
     ]
    }
   ],
   "source": [
    "try:\n",
    "    print(\"result of 10/5=\", (10/5))\n",
    "    print(\"result of 10/0=\", (10/0))\n",
    "except ZeroDivisionError as e:\n",
    "    print(\"exception-\", str(e))"
   ]
  },
  {
   "cell_type": "code",
   "execution_count": 19,
   "id": "43b97a9b-904d-4f35-9a68-f3bf3e9e88aa",
   "metadata": {},
   "outputs": [
    {
     "name": "stdout",
     "output_type": "stream",
     "text": [
      "I/O error occurred\n"
     ]
    }
   ],
   "source": [
    "try:\n",
    "    my_file = open(\"myfile.txt\")\n",
    "    my_line = my_file.readline()\n",
    "    my_int = int(my_line.strip())\n",
    "    my_calculated_value = 101 / my_int\n",
    "except IOError:\n",
    "    print(\"I/O error occurred\")\n",
    "except ValueError:\n",
    "    print(\"Could not convert data to an integer.\")\n",
    "except ZeroDivisionError:\n",
    "    print(\"Division by zero error\")\n",
    "except:\n",
    "    print(\"Unexpected error:\")\n",
    "else:\n",
    "    print(\"Hurray! No exceptions!\")"
   ]
  },
  {
   "cell_type": "code",
   "execution_count": 21,
   "id": "35643c32-9829-4991-bcb8-ba6ae48dae12",
   "metadata": {},
   "outputs": [
    {
     "name": "stdout",
     "output_type": "stream",
     "text": [
      "I/O error occurred\n",
      "finally saying goodbye.\n"
     ]
    }
   ],
   "source": [
    "try:\n",
    "    fh = open(\"poem1.txt\", \"r\")\n",
    "    print(fh.read())\n",
    "except IOError:\n",
    "    print(\"I/O error occurred\")\n",
    "finally:\n",
    "    print(\"finally saying goodbye.\")"
   ]
  },
  {
   "cell_type": "code",
   "execution_count": 23,
   "id": "ecc73450-6c26-4a7d-b544-e0436032a932",
   "metadata": {},
   "outputs": [
    {
     "name": "stdin",
     "output_type": "stream",
     "text": [
      "Enter numerator:  7\n",
      "Enter denominator:  0\n"
     ]
    },
    {
     "name": "stdout",
     "output_type": "stream",
     "text": [
      "Exception: 7/0 is not possible\n"
     ]
    }
   ],
   "source": [
    "try:\n",
    "    a = int(input(\"Enter numerator: \"))\n",
    "    b = int(input(\"Enter denominator: \"))\n",
    "    if b == 0:\n",
    "        raise ZeroDivisionError(str(a) + \"/0 is not possible\")\n",
    "    print(a / b)\n",
    "except ZeroDivisionError as e:\n",
    "    print(\"Exception:\", str(e))"
   ]
  },
  {
   "cell_type": "code",
   "execution_count": null,
   "id": "1a3cec23-0785-4e91-92b0-739ae277caf0",
   "metadata": {},
   "outputs": [],
   "source": []
  }
 ],
 "metadata": {
  "kernelspec": {
   "display_name": "Python 3 (ipykernel)",
   "language": "python",
   "name": "python3"
  },
  "language_info": {
   "codemirror_mode": {
    "name": "ipython",
    "version": 3
   },
   "file_extension": ".py",
   "mimetype": "text/x-python",
   "name": "python",
   "nbconvert_exporter": "python",
   "pygments_lexer": "ipython3",
   "version": "3.11.7"
  }
 },
 "nbformat": 4,
 "nbformat_minor": 5
}
